{
  "nbformat": 4,
  "nbformat_minor": 0,
  "metadata": {
    "colab": {
      "name": "Copia_de_VERSION_1__13 (1).ipynb",
      "provenance": [],
      "collapsed_sections": [
        "HwV9kvg8pzcb"
      ],
      "include_colab_link": true
    },
    "kernelspec": {
      "display_name": "Python 3",
      "name": "python3"
    }
  },
  "cells": [
    {
      "cell_type": "markdown",
      "metadata": {
        "id": "view-in-github",
        "colab_type": "text"
      },
      "source": [
        "<a href=\"https://colab.research.google.com/github/arjmem06/ColabB/blob/main/Copia_de_VERSION_1__13_(1).ipynb\" target=\"_parent\"><img src=\"https://colab.research.google.com/assets/colab-badge.svg\" alt=\"Open In Colab\"/></a>"
      ]
    },
    {
      "cell_type": "markdown",
      "metadata": {
        "id": "tZxgUs2J1YWX"
      },
      "source": [
        "#  <font size=\"6\"><strong>**1.** Instalar FFmpeg Rclone y Montar Drive</strong>\n",
        "\n"
      ]
    },
    {
      "cell_type": "code",
      "metadata": {
        "id": "m74PLL2T_zZH",
        "colab": {
          "base_uri": "https://localhost:8080/",
          "height": 82
        },
        "cellView": "form",
        "outputId": "8915df2b-2c5b-4aa5-91ad-887d42f9ccb3"
      },
      "source": [
        "###@title <font size=\"6\"><<----<strong>1.1 Instalar FFmeg ,  and rClone</strong>\n",
        "#%%capture\n",
        "AUTO_RECONNECT = True #@param {type:\"boolean\"}\n",
        "Mountar_Google_Drive = True #@param {type:\"boolean\"}\n",
        "\n",
        "Upgrade_FFmpeg = False #@param {type:\"boolean\"}\n",
        "RCLONE = True #@param {type:\"boolean\"}\n",
        "Install_Torrent = False #@param {type:\"boolean\"}\n",
        "\n",
        "\n",
        "#@markdown ឵឵<font size=\"6\"> ឵឵<strong>Montar Unidad Rclone</font> { vertical-output: true } \n",
        "Montar_Unidad = True #@param {type:\"boolean\"}\n",
        "Unidad = \"A04\"  # @param [\"A01\", \"A02\", \"A03\", \"A04\", \"A05\"]    \n",
        "Clave = \"PiratA69\" #@param {type:\"string\"}\n",
        "\n",
        " \n",
        "from os import makedirs\n",
        "from IPython.display import clear_output\n",
        "import os, urllib.request\n",
        "import os, pathlib, zipfile, re\n",
        "from google.colab import drive\n",
        "\n",
        "if Mountar_Google_Drive==True:\n",
        "  drive.mount('/content/drive') \n",
        "  clear_output()\n",
        "  print(\"Unidad Montada /drive\")\n",
        "\n",
        "\n",
        "if Upgrade_FFmpeg==True:\n",
        "  os.system('add-apt-repository -y ppa:jonathonf/ffmpeg-4')\n",
        "  os.system('apt-get update')\n",
        "  os.system('apt install mediainfo')\n",
        "  os.system('apt-get install ffmpeg')  \n",
        "  print(\"FFmpeg Instalada.\")\n",
        "\n",
        "  \n",
        "if RCLONE==True:\n",
        "  os.system(\"curl https://rclone.org/install.sh | sudo bash\")\n",
        "  print(\"Rclone Instalado.\")\n",
        "  if Montar_Unidad==True:\n",
        "   Unidad_Montar=\"/content/\" + Unidad\n",
        "   makedirs(Unidad_Montar, exist_ok = True)\n",
        "   #!mkdir \"$Unidad_Montar\"\n",
        "   !RCLONE_CONFIG_PASS=\"$Clave\" rclone mount \"$Unidad\": \"$Unidad_Montar\" --config \"/content/drive/MyDrive/r.conf\" --vfs-cache-mode full  &>/dev/null &\n",
        "   print(\"Unidad Montada /\" ,Unidad )\n",
        "\n",
        "if Install_Torrent==True:\n",
        "  os.system('install python3-libtorrent') \n",
        "  print(\"Torrent Instalado. \")\n",
        "\n",
        " \n",
        "if AUTO_RECONNECT:\n",
        "  import IPython\n",
        "  from google.colab import output\n",
        " \n",
        "  display(IPython.display.Javascript('''\n",
        "  function ClickConnect(){\n",
        "    btn = document.querySelector(\"colab-connect-button\")\n",
        "    if (btn != null){\n",
        "      console.log(\"Click colab-connect-button\"); \n",
        "      btn.click() \n",
        "      }\n",
        "    \n",
        "    btn = document.getElementById('ok')\n",
        "    if (btn != null){\n",
        "      console.log(\"Click reconnect\"); \n",
        "      btn.click() \n",
        "      }\n",
        "    }\n",
        "    \n",
        "  setInterval(ClickConnect,60000)\n",
        "  '''))\n",
        "  print(\"Autoreconexion intalada.\")\n",
        "\n",
        "\n",
        "\n"
      ],
      "execution_count": null,
      "outputs": [
        {
          "output_type": "stream",
          "text": [
            "Unidad Montada /drive\n",
            "Rclone Instalado.\n",
            "Unidad Montada / A04\n"
          ],
          "name": "stdout"
        },
        {
          "output_type": "display_data",
          "data": {
            "application/javascript": [
              "\n",
              "  function ClickConnect(){\n",
              "    btn = document.querySelector(\"colab-connect-button\")\n",
              "    if (btn != null){\n",
              "      console.log(\"Click colab-connect-button\"); \n",
              "      btn.click() \n",
              "      }\n",
              "    \n",
              "    btn = document.getElementById('ok')\n",
              "    if (btn != null){\n",
              "      console.log(\"Click reconnect\"); \n",
              "      btn.click() \n",
              "      }\n",
              "    }\n",
              "    \n",
              "  setInterval(ClickConnect,60000)\n",
              "  "
            ],
            "text/plain": [
              "<IPython.core.display.Javascript object>"
            ]
          },
          "metadata": {
            "tags": []
          }
        },
        {
          "output_type": "stream",
          "text": [
            "Autoreconexion intalada.\n"
          ],
          "name": "stdout"
        }
      ]
    },
    {
      "cell_type": "markdown",
      "metadata": {
        "id": "Zdyd57Sv2m_A"
      },
      "source": [
        "# **2.** Comprimir Peliculas\n",
        "\n",
        "\n",
        "\n"
      ]
    },
    {
      "cell_type": "code",
      "metadata": {
        "colab": {
          "base_uri": "https://localhost:8080/"
        },
        "id": "YcXSQoxHd4Nd",
        "cellView": "form",
        "outputId": "77003c68-36d4-4224-9e2b-4510ff26e288"
      },
      "source": [
        "###@title <font size=\"6\"><<----<strong>2.1  Comprimir Peliculas</strong>\n",
        "import os, sys, re\n",
        "import os.path as existe\n",
        "from IPython.display import clear_output\n",
        "\n",
        "video_file_path = \"/content/A05/Original/TV Shows/Veneno/Veneno - S01E03 - Acar\\xEDciame.mkv\" #@param {type:\"string\"}\n",
        "Extension_Origen = \"mkv\"  # @param [\"avi\", \"mp4\", \"mkv\", \"wmv\", \"mpg\", \"mov\"]\n",
        "Extension_Destino = \"mp4\"  # @param [\"mkv\", \"avi\", \"mp4\", \"wmv\", \"mpg\", \"mov\"]\n",
        "path = video_file_path \n",
        "\n",
        "\n",
        "if os.path.isfile(video_file_path):\n",
        "  output_file_path = re.search(\"^[\\/].+\\/\", video_file_path)\n",
        "  output_file_path_raw = output_file_path.group(0)\n",
        "  delsplit = re.search(\"\\/(?:.(?!\\/))+$\", video_file_path)\n",
        "  filename = re.sub(\"^[\\/]\", \"\", delsplit.group(0))\n",
        "  filename_raw = re.sub(\".{4}$\", \"\", filename)\n",
        "  file_extension = re.search(\".{3}$\", filename)\n",
        "  file_extension_raw = file_extension.group(0)\n",
        "\n",
        "  os.environ['inputFile'] = video_file_path\n",
        "  os.environ['outputPath'] = output_file_path_raw\n",
        "#  os.environ['startTime'] = start_time\n",
        " # os.environ['endTime'] = end_time\n",
        "  os.environ['FileName'] = filename_raw\n",
        "  os.environ['fileExtension'] = file_extension_raw\n",
        "  filename_raw2 =output_file_path_raw + filename_raw +\".\" + Extension_Destino\n",
        "  if os.path.isfile(filename_raw2):     \n",
        "    print(\"Existe el archivo :\" ,filename_raw2 )\n",
        "  else:  \n",
        "#    !ffmpeg -hide_banner -i \"$video_file_path\" -c copy -strict -2 \"$filename_raw2\"\n",
        "    !ffmpeg -i \"$video_file_path\"  \"$filename_raw2\" -crf 14 -preset fast -acodec libmp3lame -hide_banner -aspect 16:9\n",
        "\n",
        "    clear_output() \n",
        "    print(\"Archivo comprimido :\" ,filename_raw2 )\n",
        "\n",
        "\n",
        "else:\n",
        "    if os.path.isdir(video_file_path):\n",
        "      Lista_Compri=[] \n",
        "      busqueda =!find \"$path\" -type f\n",
        "      for indice in busqueda:\n",
        "         file_raw = re.sub(\".{4}$\", \"\", indice)               #file sin extension\n",
        "         filename_raw = re.sub(\".{4}$\", \"\", indice)\n",
        "         file_extension = re.search(\".{3}$\", indice)\n",
        "         file_extension_raw = file_extension.group(0) \n",
        "\n",
        "         if file_extension_raw == Extension_Origen:\n",
        "\n",
        "           filename_raw = filename_raw+ \".\" + Extension_Destino\n",
        "\n",
        "\n",
        "           if os.path.isfile(filename_raw) :\n",
        "             print(\"Existe : \", filename_raw)\n",
        "           else :\n",
        "             clear_output()\n",
        "             print(\" YA SE HAN COMPRIMIDO : \")\n",
        "             print()\n",
        "\n",
        "             print(filename_raw)\n",
        "\n",
        "\n",
        "             for List in  Lista_Compri:\n",
        "               print(List)\n",
        "             Lista_Compri.append(filename_raw) \n",
        "             print()\n",
        "             print(\"No existe : \", filename_raw)  \n",
        "             print() \n",
        "             !ffmpeg -i \"$indice\"  \"$filename_raw\" -crf 14 -preset medium -acodec libmp3lame -hide_banner \n",
        "      clear_output() \n",
        "      print()\n",
        "      print(\" YA SE HAN COMPRIMIDO : \")\n",
        "      print()\n",
        "\n",
        "      for List in  Lista_Compri:\n",
        "        print(List)\n",
        "    else:        \n",
        "        print(\"No existe\")    \n"
      ],
      "execution_count": null,
      "outputs": [
        {
          "output_type": "stream",
          "text": [
            "Archivo comprimido : /content/A05/Original/TV Shows/Veneno/Veneno - S01E03 - Acaríciame.mp4\n"
          ],
          "name": "stdout"
        }
      ]
    },
    {
      "cell_type": "markdown",
      "metadata": {
        "id": "u7XlG3CfSUSa"
      },
      "source": [
        "### <font face=\"Rubik\" size=\"4\">» </font><font face=\"Rubik\" size=\"5\">Display Media File Metadata"
      ]
    },
    {
      "cell_type": "code",
      "metadata": {
        "cellView": "form",
        "id": "tLSiJWNxSN_-"
      },
      "source": [
        "import os, sys, re\n",
        "\n",
        "media_file_path = \"\" #@param {type:\"string\"}\n",
        "\n",
        "os.environ['inputFile'] = media_file_path\n",
        "\n",
        "!ffmpeg -i \"$inputFile\" -hide_banner"
      ],
      "execution_count": null,
      "outputs": []
    },
    {
      "cell_type": "markdown",
      "metadata": {
        "id": "HwV9kvg8pzcb"
      },
      "source": [
        "# **3.** Sincronizaciones\n"
      ]
    },
    {
      "cell_type": "code",
      "metadata": {
        "colab": {
          "base_uri": "https://localhost:8080/"
        },
        "id": "OxBgH4XKpzFT",
        "cellView": "form",
        "outputId": "8dbcd989-b3e4-4578-879e-993fd27e93ac"
      },
      "source": [
        "#@title <font size=\"5\">← ឵឵<i>3.1 Sincronizar o copiar </font> { vertical-output: true } \n",
        "import os, sys, re\n",
        "import os, pathlib, zipfile, re\n",
        "from IPython.display import clear_output\n",
        "\n",
        "Unidad_Origen = \"A01\"  # @param [\"arjmemrA\",\"A01\", \"A02\", \"A03\", \"A04\", \"A05\",\"A06\",\"A06no\",\"P00\",\"P01\"]\n",
        "Unidad_Destino =\"P00\"  # @param [\"arjmemrA\",\"A01\", \"A02\", \"A03\", \"A04\", \"A05\",\"A06\",\"A06no\",\"P00\",\"P01\"]\n",
        "Accion =\"copy\"  # @param [\"copy\", \"sync\"]\n",
        "path = \"/Multi\" #@param {type:\"string\"}\n",
        "Clave = \"Pirata69\" #@param {type:\"string\"}\n",
        "Modo_Oculto = True #@param {type:\"boolean\"}\n",
        "\n",
        "if Modo_Oculto :\n",
        "  !RCLONE_CONFIG_PASS=\"$Clave\" rclone \"$Accion\" \"$Unidad_Origen\":\"$path\" \"$Unidad_Destino\":\"$path\" --transfers=3 --bwlimit 79090k -P --config \"/content/A04/rcompCod.conf\" &>/dev/null &\n",
        "  print(\"Modo Oculto Activado\")\n",
        "else  :\n",
        "  !RCLONE_CONFIG_PASS=\"$Clave\" rclone \"$Accion\" \"$Unidad_Origen\":\"$path\" \"$Unidad_Destino\":\"$path\" --transfers=3 --bwlimit 79090k -P --config \"/content/A04/rcompCod.conf\" \n",
        "\n",
        "\n",
        "\n",
        "\n",
        "\n",
        "\n",
        "#!RCLONE_CONFIG_PASS=\"$Clave\" rclone mount \"$Unidad\": \"$Unidad_Montar\" --config \"/content/drive/MyDrive/r.conf\" --vfs-cache-mode full # &>/dev/null &\n",
        "#!RCLONE_CONFIG_PASS=\"$Clave\" rclone \"$Accion\" \"$Unidad_Origen\":\"$path\" \"$Unidad_Destino\":\"$path\" --transfers=3 --bwlimit 79090k -P --config \"/content/drive/MyDrive/r.conf\"  \"$Oculto\"\n",
        "\n"
      ],
      "execution_count": null,
      "outputs": [
        {
          "output_type": "stream",
          "text": [
            "Modo Oculto Activado\n"
          ],
          "name": "stdout"
        }
      ]
    },
    {
      "cell_type": "code",
      "metadata": {
        "colab": {
          "base_uri": "https://localhost:8080/"
        },
        "id": "0CaE9IRBbZxi",
        "cellView": "form",
        "outputId": "b3b9ff7a-8b22-41b0-f47e-4735893e5d59"
      },
      "source": [
        "#@title <font size=\"5\">← ឵឵<i>3.2 Sincronizar o copiar en secuencia </font> { vertical-output: true } \n",
        "\n",
        "\n",
        "import os, sys, re\n",
        "import os, pathlib, zipfile, re\n",
        "from IPython.display import clear_output\n",
        "\n",
        "Unidad_Origen = \"arjmemrA\"  # @param [\"A01\", \"A02\", \"A03\", \"A04\", \"A05\",\"A06\",\"A06\",\"A06no\",\"P00\",\"P01\",\"arjmemrA\"]\n",
        "Accion =\"copy\"  # @param [\"copy\", \"sync\"]\n",
        "path = \"/Multi\" #@param {type:\"string\"}\n",
        "Clave = \"Pirata69\" #@param {type:\"string\"}\n",
        "#@markdown   Orden de copia o sincronización\n",
        "\n",
        "Unidad_2 = \"A04\"  # @param [\" \",\"A01\", \"A02\", \"A03\", \"A04\", \"A05\",\"A06\",\"A06no\",\"P00\",\"P01\",\"arjmemrA\"]\n",
        "Unidad_3 =\"A05\"  # @param [\" \",\"A01\", \"A02\", \"A03\", \"A04\", \"A05\",\"A06\",\"A06no\",\"P00\",\"P01\",\"arjmemrA\"]\n",
        "Unidad_4 =\"P00\"  # @param [\" \",\"A01\", \"A02\", \"A03\", \"A04\", \"A05\",\"A06\",\"A06no\",\"P00\",\"P01\",\"arjmemrA\"]\n",
        "Unidad_5 =\"A06\"  # @param [\" \", \"A01\",\"A02\", \"A03\", \"A04\", \"A05\",\"A06\",\"A06no\",\"P00\",\"P01\",\"arjmemrA\"]\n",
        "Unidad_6 =\" \"  # @param [\" \", \"A01\",\"A02\", \"A03\", \"A04\", \"A05\",\"A06\",\"A06no\",\"P00\",\"P01\",\"arjmemrA\"]\n",
        "Unidad_7 =\" \"  # @param [\" \",\"A01\", \"A02\", \"A03\", \"A04\", \"A05\",\"A06\",\"A06no\",\"P00\",\"P01\",\"arjmemrA\"]\n",
        "Unidad_8 =\" \"  # @param [\" \", \"A01\",\"A02\", \"A03\", \"A04\", \"A05\",\"A06\",\"A06no\",\"P00\",\"P01\",\"arjmemrA\"]\n",
        "Unidad_9 =\" \"  # @param [\" \", \"A01\",\"A02\", \"A03\", \"A04\", \"A05\",\"A06\",\"A06no\",\"P00\",\"P01\",\"arjmemrA\"]\n",
        "Secuencia = [Unidad_2] + [Unidad_3] + [Unidad_4] + [Unidad_5] + [Unidad_6] + [Unidad_7] + [Unidad_8] +[Unidad_9 ]\n",
        "\n",
        "No_Oculto = True\n",
        "Unidad_Origen_O= Unidad_Origen\n",
        "\n",
        "for indice in Secuencia :\n",
        "  if indice == \" \" :\n",
        "    print()\n",
        "\n",
        "  else :  \n",
        "    if No_Oculto :\n",
        "      print()\n",
        "      print(\"Sincronizando \" , Unidad_Origen , \":\" , path ,\" a \" , indice,\":\" ,path)\n",
        "      !RCLONE_CONFIG_PASS=\"$Clave\" rclone \"$Accion\" \"$Unidad_Origen\":\"$path\" \"$indice\":\"$path\" --transfers=3 --bwlimit 89090k --config \"/content/A04/rcompCod.conf\" \n",
        "      No_Oculto = False\n",
        "      Unidad_Origen = indice\n",
        "    else :  \n",
        "       print()\n",
        "       print(\"Sincronizando Oculto \" , Unidad_Origen_O , \":\" , path ,\" a \" , indice,\":\" ,path)\n",
        "       !RCLONE_CONFIG_PASS=\"$Clave\" rclone \"$Accion\" \"$Unidad_Origen\":\"$path\" \"$indice\":\"$path\" --transfers=3 --bwlimit 89090k --config \"/content/A04/rcompCod.conf\" &>/dev/null &\n",
        "\n",
        "       No_Oculto = True\n",
        "\n",
        "\n",
        "\n",
        "\n",
        "print(\"Fin de secuencia\")"
      ],
      "execution_count": null,
      "outputs": [
        {
          "output_type": "stream",
          "text": [
            "\n",
            "Sincronizando  arjmemrA : /Multi  a  A04 : /Multi\n",
            "\n",
            "Sincronizando Oculto  arjmemrA : /Multi  a  A05 : /Multi\n",
            "\n",
            "Sincronizando  A04 : /Multi  a  P00 : /Multi\n"
          ],
          "name": "stdout"
        }
      ]
    },
    {
      "cell_type": "code",
      "metadata": {
        "cellView": "form",
        "colab": {
          "base_uri": "https://localhost:8080/"
        },
        "id": "e2kK-wmKDVpd",
        "outputId": "b4ff2546-201c-4caa-eb77-2f3e817b81c8"
      },
      "source": [
        "Clave = \"PiratA69\" #@param {type:\"string\"}\n",
        "Modo_Oculto = True #@param {type:\"boolean\"}\n",
        "dedupe_secuencia=[\"A01\", \"A02\", \"A03\", \"A04\", \"A05\",\"A06no\",\"P01\",\"arjmemrA\"]\n",
        "for indice in dedupe_secuencia :\n",
        "  if Modo_Oculto :\n",
        "    !RCLONE_CONFIG_PASS=\"$Clave\" rclone dedupe \"$indice\": --dedupe-mode first --config \"/content/A05/rcompCod.conf\" &>/dev/null &\n",
        "  else:\n",
        "    print(\"Escanenado duplicados unidad : \", indice ,\" ...\")\n",
        "    !RCLONE_CONFIG_PASS=\"$Clave\" rclone dedupe \"$indice\": --dedupe-mode first --config \"/content/A05/rcompCod.conf\" \n",
        "\n",
        "print(\"Ha tgerminado de escanear unidades.\")\n"
      ],
      "execution_count": null,
      "outputs": [
        {
          "output_type": "stream",
          "text": [
            "Terminado de escanear unidades.\n"
          ],
          "name": "stdout"
        }
      ]
    },
    {
      "cell_type": "markdown",
      "metadata": {
        "id": "C3DEm2y6x9oq"
      },
      "source": [
        "# **4.** Descomprimir Rar Zip 001\n",
        "\n",
        "\n"
      ]
    },
    {
      "cell_type": "code",
      "metadata": {
        "id": "HtJE0j5jwT-r"
      },
      "source": [
        "###@title <font size=\"6\"><<----<strong>4.1  Comprimir Archivos 001,zip,rar</strong>\n",
        "path = \"/content/drive/Shareddrives/Drive1/MyBot/Naruto.zip.001\" #@param {type:\"string\"}\n",
        "Descomprimir_Automatica_001 = True #@param {type:\"boolean\"}\n",
        "\n",
        "import os, sys, re\n",
        "import os.path as existe\n",
        "from IPython.display import clear_output \n",
        "\n",
        "busqueda=[] \n",
        "Lista_Compri= []\n",
        "\n",
        "if os.path.isdir(path):\n",
        "  busqueda =!find \"$path\" -type f\n",
        "else:\n",
        "  if os.path.isfile(path) :\n",
        "    busqueda= [path]\n",
        "  else:\n",
        "    print(\"No existe\")\n",
        "for indice in busqueda:\n",
        " # print(indice)\n",
        "  output_file_path = re.search(\"^[\\/].+\\/\", indice)\n",
        "  output_file_path_raw = output_file_path.group(0)\n",
        "  file_raw = re.sub(\".{4}$\", \"\", indice)               #file sin extension\n",
        "  filename_raw = re.sub(\".{4}$\", \"\", indice)\n",
        "  file_extension = re.search(\".{3}$\", indice)\n",
        "  file_extension_raw = file_extension.group(0) \n",
        "\n",
        "  if file_extension_raw == \"rar\": \n",
        "    !unrar x -o- \"$indice\" \"$output_file_path_raw\"\n",
        "    Lista_Compri.append(indice)\n",
        "\n",
        "  if file_extension_raw == \"001\":\n",
        "     if os.path.isfile(filename_raw) :\n",
        "        print(\"Existe = \", filename_raw)\n",
        "     else :\n",
        "        Lista_Compri.append(filename_raw)\n",
        "        print()  \n",
        "        print(\"No existe : \", filename_raw)  \n",
        "        print()\n",
        "        !cat \"$filename_raw\".00* > \"$filename_raw\"\n",
        "\n",
        "        if Descomprimir_Automatica_001==True: \n",
        "          output_file_path = re.search(\"^[\\/].+\\/\", filename_raw)\n",
        "          print()\n",
        "          print(\"Descompresion de archivo fusionado : \" ,filename_raw)\n",
        "          print()\n",
        "          !unzip -n \"$filename_raw\" -d \"$output_file_path_raw\"\n",
        "\n",
        " \n",
        "  if file_extension_raw == \"zip\": \n",
        "    print()\n",
        "    print(\"Descompresion del archivo : \" ,indice)\n",
        "    print()\n",
        "    os.environ['outputPath'] = output_file_path_raw\n",
        "    !unzip -n \"$indice\" -d \"$output_file_path_raw\" \n",
        "    Lista_Compri.append(indice)\n",
        "\n",
        "print()\n",
        "print(\"Archivos Descomprimidos\")\n",
        "for ind in (Lista_Compri) :\n",
        "  print(ind)\n",
        "  "
      ],
      "execution_count": null,
      "outputs": []
    },
    {
      "cell_type": "markdown",
      "metadata": {
        "id": "vznWIGLY_Zhn"
      },
      "source": [
        "# **5.** Torrent"
      ]
    },
    {
      "cell_type": "code",
      "metadata": {
        "id": "2RU3iYeBALYS",
        "cellView": "form"
      },
      "source": [
        "import libtorrent as lt\n",
        "import time\n",
        "import datetime\n",
        "\n",
        "path = \"/content/drive/My Drive/Torrent2/\" #@param {type:\"string\"}\n",
        "\n",
        "\n",
        "\n",
        "\n",
        "ses = lt.session()\n",
        "ses.listen_on(6881, 6891)\n",
        "params = {\n",
        "    'save_path': path ,\n",
        "    'storage_mode': lt.storage_mode_t(2),\n",
        "    'paused': False,\n",
        "    'auto_managed': True,\n",
        "    'duplicate_is_error': True}\n",
        "link = \"https://yts.lt/torrent/download/866BDCFA006930A718ADBC21D8CAE1F2C7F9D8B3\" #@param {type:\"string\" # PASTE TORRENT/MAGNET LINK HERE\n",
        "print(link)\n",
        "\n",
        "handle = lt.add_magnet_uri(ses, link, params)\n",
        "ses.start_dht()\n",
        "\n",
        "begin = time.time()\n",
        "print(datetime.datetime.now())\n",
        "\n",
        "print ('Downloading Metadata...')\n",
        "while (not handle.has_metadata()):\n",
        "    time.sleep(1)\n",
        "print ('Got Metadata, Starting Torrent Download...')\n",
        "\n",
        "print(\"Starting\", handle.name())\n",
        "\n",
        "while (handle.status().state != lt.torrent_status.seeding):\n",
        "    s = handle.status()\n",
        "    state_str = ['queued', 'checking', 'downloading metadata', \\\n",
        "            'downloading', 'finished', 'seeding', 'allocating']\n",
        "    print ('%.2f%% complete (down: %.1f kb/s up: %.1f kB/s peers: %d) %s ' % \\\n",
        "            (s.progress * 100, s.download_rate / 1000, s.upload_rate / 1000, \\\n",
        "            s.num_peers, state_str[s.state]))\n",
        "    time.sleep(5)\n",
        "\n",
        "end = time.time()\n",
        "print(handle.name(), \"COMPLETE\")\n",
        "\n",
        "print(\"Elapsed Time: \",int((end-begin)//60),\"min :\", int((end-begin)%60), \"sec\")\n",
        "\n",
        "print(datetime.datetime.now())\n"
      ],
      "execution_count": null,
      "outputs": []
    }
  ]
}